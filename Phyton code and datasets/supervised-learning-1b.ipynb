{
 "cells": [
  {
   "cell_type": "code",
   "execution_count": 1,
   "metadata": {},
   "outputs": [
    {
     "name": "stdout",
     "output_type": "stream",
     "text": [
      "SVM Accuracy: 0.7628865979381443\n",
      "[[14 16]\n",
      " [ 7 60]]\n",
      "MLP Accuracy: 0.7525773195876289\n",
      "[[12 18]\n",
      " [ 6 61]]\n",
      "DT Accuracy: 0.7010309278350515\n",
      "[[10 20]\n",
      " [ 9 58]]\n",
      "RF Accuracy: 0.7216494845360825\n",
      "[[10 20]\n",
      " [ 7 60]]\n"
     ]
    },
    {
     "name": "stderr",
     "output_type": "stream",
     "text": [
      "/var/folders/ql/c7m8xj6x12d6xlfh52gpq4j80000gn/T/ipykernel_45726/1534644814.py:16: SettingWithCopyWarning: \n",
      "A value is trying to be set on a copy of a slice from a DataFrame\n",
      "\n",
      "See the caveats in the documentation: https://pandas.pydata.org/pandas-docs/stable/user_guide/indexing.html#returning-a-view-versus-a-copy\n",
      "  y_temp.gscore[y_temp.gscore < 13] = 0\n",
      "/var/folders/ql/c7m8xj6x12d6xlfh52gpq4j80000gn/T/ipykernel_45726/1534644814.py:17: SettingWithCopyWarning: \n",
      "A value is trying to be set on a copy of a slice from a DataFrame\n",
      "\n",
      "See the caveats in the documentation: https://pandas.pydata.org/pandas-docs/stable/user_guide/indexing.html#returning-a-view-versus-a-copy\n",
      "  y_temp.gscore[y_temp.gscore >= 13] = 1\n",
      "/Users/leevi/anaconda3/lib/python3.11/site-packages/sklearn/utils/validation.py:1184: DataConversionWarning: A column-vector y was passed when a 1d array was expected. Please change the shape of y to (n_samples, ), for example using ravel().\n",
      "  y = column_or_1d(y, warn=True)\n",
      "/Users/leevi/anaconda3/lib/python3.11/site-packages/sklearn/neural_network/_multilayer_perceptron.py:1102: DataConversionWarning: A column-vector y was passed when a 1d array was expected. Please change the shape of y to (n_samples, ), for example using ravel().\n",
      "  y = column_or_1d(y, warn=True)\n",
      "/Users/leevi/anaconda3/lib/python3.11/site-packages/sklearn/base.py:1151: DataConversionWarning: A column-vector y was passed when a 1d array was expected. Please change the shape of y to (n_samples,), for example using ravel().\n",
      "  return fit_method(estimator, *args, **kwargs)\n"
     ]
    }
   ],
   "source": [
    "#! python\n",
    "from sklearn.neural_network import MLPClassifier\n",
    "from sklearn.model_selection import train_test_split\n",
    "from sklearn.metrics import confusion_matrix\n",
    "from sklearn.ensemble import RandomForestClassifier\n",
    "from sklearn import tree, metrics\n",
    "from sklearn.svm import SVC\n",
    "import pandas as pd;\n",
    "\n",
    "sessions = pd.read_csv('all_rounds.csv');\n",
    "\n",
    "# create training dataset - input and output -- create classes\n",
    "X = sessions[[\"t1\",\"t2\", \"t3\", \"t4\", \"speed\", \"positions\"]].to_numpy(); \n",
    "\n",
    "y_temp = sessions[[\"gscore\"]];\n",
    "y_temp.gscore[y_temp.gscore < 13] = 0\n",
    "y_temp.gscore[y_temp.gscore >= 13] = 1\n",
    "Y = y_temp.to_numpy();\n",
    "        \n",
    "# create training/test dataset\n",
    "X_train, X_test, Y_train, Y_test = train_test_split(X, Y, test_size=0.33, random_state=2 ); \n",
    "\n",
    "svm = SVC(kernel='linear')\n",
    "svm.fit(X_train, Y_train);  \n",
    "svm_prediction = svm.predict(X_test); \n",
    "print(\"SVM Accuracy:\",metrics.accuracy_score(Y_test, svm_prediction))\n",
    "print(confusion_matrix(Y_test, svm_prediction)); \n",
    "    \n",
    "# multilayer perceptron classification\n",
    "mlp = MLPClassifier(activation='logistic', max_iter=5000, solver='lbfgs', hidden_layer_sizes=(2, 5), random_state=42)\n",
    "mlp.fit(X_train, Y_train)\n",
    "mlp_prediction = mlp.predict(X_test); \n",
    "print(\"MLP Accuracy:\",metrics.accuracy_score(Y_test, mlp_prediction))\n",
    "print(confusion_matrix(Y_test, mlp_prediction));\n",
    "\n",
    "# Decision Tree calssification\n",
    "clf = tree.DecisionTreeClassifier(random_state=10); \n",
    "clf.fit(X_train, Y_train)\n",
    "clf_prediction = clf.predict(X_test)\n",
    "print(\"DT Accuracy:\",metrics.accuracy_score(Y_test, clf_prediction))\n",
    "print(confusion_matrix(Y_test, clf_prediction)); \n",
    "\n",
    "\n",
    "rf = RandomForestClassifier(n_estimators=150, criterion = 'entropy')\n",
    "rf.fit(X_train, Y_train)\n",
    "rf_prediction = rf.predict(X_test)\n",
    "print(\"RF Accuracy:\",metrics.accuracy_score(Y_test, rf_prediction))\n",
    "print(confusion_matrix(Y_test, rf_prediction)); \n",
    "\n"
   ]
  }
 ],
 "metadata": {
  "kernelspec": {
   "display_name": "base",
   "language": "python",
   "name": "python3"
  },
  "language_info": {
   "codemirror_mode": {
    "name": "ipython",
    "version": 3
   },
   "file_extension": ".py",
   "mimetype": "text/x-python",
   "name": "python",
   "nbconvert_exporter": "python",
   "pygments_lexer": "ipython3",
   "version": "3.11.4"
  },
  "orig_nbformat": 4
 },
 "nbformat": 4,
 "nbformat_minor": 2
}
